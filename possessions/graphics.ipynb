{
 "cells": [
  {
   "cell_type": "code",
   "execution_count": 1,
   "metadata": {},
   "outputs": [],
   "source": [
    "import matplotlib.pyplot as plt\n",
    "import pandas as pd"
   ]
  },
  {
   "cell_type": "code",
   "execution_count": 2,
   "metadata": {},
   "outputs": [],
   "source": [
    "# load data\n",
    "df = pd.read_csv('../rapm_possessions.csv')"
   ]
  },
  {
   "cell_type": "code",
   "execution_count": 3,
   "metadata": {},
   "outputs": [],
   "source": [
    "def build_player_list(posessions):\n",
    "    players = list(\n",
    "        set(list(posessions['offensePlayer1Id'].unique()) + list(posessions['offensePlayer2Id'].unique()) + list(\n",
    "            posessions['offensePlayer3Id']) + \\\n",
    "            list(posessions['offensePlayer4Id'].unique()) + list(posessions['offensePlayer5Id'].unique()) + list(\n",
    "            posessions['defensePlayer1Id'].unique()) + \\\n",
    "            list(posessions['defensePlayer2Id'].unique()) + list(posessions['defensePlayer3Id'].unique()) + list(\n",
    "            posessions['defensePlayer4Id'].unique()) + \\\n",
    "            list(posessions['defensePlayer5Id'].unique())))\n",
    "    players.sort()\n",
    "    return players"
   ]
  },
  {
   "cell_type": "code",
   "execution_count": 4,
   "metadata": {},
   "outputs": [],
   "source": [
    "# lineups\n",
    "df[\"all_offensive_players\"] = (df[\"offensePlayer1Id\"]).astype(str) + \",\" + (df[\"offensePlayer2Id\"]).astype(str) + \",\" + (df[\"offensePlayer3Id\"]).astype(str) + \",\" + (df[\"offensePlayer4Id\"]).astype(str) + \",\" + (df[\"offensePlayer5Id\"]).astype(str)\n",
    "# sort all offensive players\n",
    "df[\"all_offensive_players\"] = df[\"all_offensive_players\"].apply(lambda x: \",\".join(sorted(x.split(\",\"))))\n",
    "\n",
    "df[\"all_defensive_players\"] = (df[\"defensePlayer1Id\"]).astype(str) + \",\" + (df[\"defensePlayer2Id\"]).astype(str) + \",\" + (df[\"defensePlayer3Id\"]).astype(str) + \",\" + (df[\"defensePlayer4Id\"]).astype(str) + \",\" + (df[\"defensePlayer5Id\"]).astype(str)\n",
    "# sort all defensive players\n",
    "df[\"all_defensive_players\"] = df[\"all_defensive_players\"].apply(lambda x: \",\".join(sorted(x.split(\",\"))))"
   ]
  },
  {
   "cell_type": "code",
   "execution_count": 6,
   "metadata": {},
   "outputs": [
    {
     "data": {
      "text/plain": [
       "Index(['Unnamed: 0', 'offensePlayer1Id', 'offensePlayer2Id',\n",
       "       'offensePlayer3Id', 'offensePlayer4Id', 'offensePlayer5Id',\n",
       "       'defensePlayer1Id', 'defensePlayer2Id', 'defensePlayer3Id',\n",
       "       'defensePlayer4Id', 'defensePlayer5Id', 'points', 'possessions',\n",
       "       'all_offensive_players', 'all_defensive_players'],\n",
       "      dtype='object')"
      ]
     },
     "execution_count": 6,
     "metadata": {},
     "output_type": "execute_result"
    }
   ],
   "source": [
    "# group by offensive and defensive lineups\n",
    "df.columns"
   ]
  },
  {
   "cell_type": "code",
   "execution_count": 64,
   "metadata": {},
   "outputs": [
    {
     "name": "stdout",
     "output_type": "stream",
     "text": [
      "\\begin{table}\n",
      "\\centering\n",
      "\\caption{Summarization of Data}\n",
      "\\label{tab:summarization}\n",
      "\\begin{tabular}{lr}\n",
      "\\toprule\n",
      "                 Header &  Value \\\\\n",
      "\\midrule\n",
      "          Total Players &    530 \\\\\n",
      "      Total Possessions & 243312 \\\\\n",
      "Total Offensive Lineups &  14926 \\\\\n",
      "Total Defensive Lineups &  14926 \\\\\n",
      "          Total Lineups &  29852 \\\\\n",
      "\\bottomrule\n",
      "\\end{tabular}\n",
      "\\end{table}\n",
      "\n"
     ]
    },
    {
     "name": "stderr",
     "output_type": "stream",
     "text": [
      "/var/folders/mv/qr8qb2nd0270g4ly5_1z9b0h0000gn/T/ipykernel_33527/4032685788.py:10: FutureWarning: In future versions `DataFrame.to_latex` is expected to utilise the base implementation of `Styler.to_latex` for formatting and rendering. The arguments signature may therefore change. It is recommended instead to use `DataFrame.style.to_latex` which also contains additional functionality.\n",
      "  print(summary_df.to_latex(index=False, caption=\"Summarization of Data\", label=\"tab:summarization\"))\n"
     ]
    }
   ],
   "source": [
    "summary_dct = {}\n",
    "summary_dct[\"Total Players\"] = len(build_player_list(df))\n",
    "summary_dct[\"Total Possessions\"] = df[\"possessions\"].sum()\n",
    "summary_dct[\"Total Offensive Lineups\"] = len(df[\"all_offensive_players\"].unique())\n",
    "summary_dct[\"Total Defensive Lineups\"] = len(df[\"all_defensive_players\"].unique())\n",
    "summary_dct[\"Total Lineups\"] = len(df[\"all_offensive_players\"].unique()) + len(df[\"all_defensive_players\"].unique())\n",
    "summary_df = pd.DataFrame()\n",
    "summary_df[\"Header\"] = summary_dct.keys()\n",
    "summary_df[\"Value\"] = summary_dct.values()\n",
    "print(summary_df.to_latex(index=False, caption=\"Summarization of Data\", label=\"tab:summarization\"))"
   ]
  },
  {
   "cell_type": "code",
   "execution_count": 20,
   "metadata": {},
   "outputs": [],
   "source": [
    "player_to_number_of_poss = {}\n",
    "\n",
    "# find the number of times each player id occurs in the data\n",
    "for player in build_player_list(df):\n",
    "    player_to_number_of_poss[player] = df[(df[\"offensePlayer1Id\"] == player) | (df[\"offensePlayer2Id\"] == player) | (df[\"offensePlayer3Id\"] == player) | (df[\"offensePlayer4Id\"] == player) | (df[\"offensePlayer5Id\"] == player) | (df[\"defensePlayer1Id\"] == player) | (df[\"defensePlayer2Id\"] == player) | (df[\"defensePlayer3Id\"] == player) | (df[\"defensePlayer4Id\"] == player) | (df[\"defensePlayer5Id\"] == player)][\"possessions\"].sum() / 10"
   ]
  },
  {
   "cell_type": "code",
   "execution_count": 22,
   "metadata": {},
   "outputs": [
    {
     "data": {
      "text/plain": [
       "Text(0.5, 1.0, 'Number of Possessions Each Player Plays')"
      ]
     },
     "execution_count": 22,
     "metadata": {},
     "output_type": "execute_result"
    },
    {
     "data": {
      "image/png": "[encoded data removed]",
      "text/plain": [
       "<Figure size 640x480 with 1 Axes>"
      ]
     },
     "metadata": {},
     "output_type": "display_data"
    }
   ],
   "source": [
    "# plot a histogram of the number of possessions each player has\n",
    "plt.hist(player_to_number_of_poss.values(), bins=30)\n",
    "plt.xlabel(\"Number of Possessions\")\n",
    "plt.ylabel(\"Number of Players\")\n",
    "plt.title(\"Number of Possessions Each Player Plays\")"
   ]
  },
  {
   "cell_type": "code",
   "execution_count": 19,
   "metadata": {},
   "outputs": [
    {
     "data": {
      "text/plain": [
       "4383.0"
      ]
     },
     "execution_count": 19,
     "metadata": {},
     "output_type": "execute_result"
    }
   ],
   "source": [
    "import numpy as np\n",
    "np.median(list(player_to_number_of_poss.values()))"
   ]
  },
  {
   "cell_type": "code",
   "execution_count": null,
   "metadata": {},
   "outputs": [],
   "source": []
  }
 ],
 "metadata": {
  "kernelspec": {
   "display_name": "Python 3",
   "language": "python",
   "name": "python3"
  },
  "language_info": {
   "codemirror_mode": {
    "name": "ipython",
    "version": 3
   },
   "file_extension": ".py",
   "mimetype": "text/x-python",
   "name": "python",
   "nbconvert_exporter": "python",
   "pygments_lexer": "ipython3",
   "version": "3.9.16"
  },
  "orig_nbformat": 4
 },
 "nbformat": 4,
 "nbformat_minor": 2
}
